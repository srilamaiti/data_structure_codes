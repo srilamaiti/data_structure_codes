{
  "nbformat": 4,
  "nbformat_minor": 0,
  "metadata": {
    "colab": {
      "provenance": [],
      "authorship_tag": "ABX9TyNlhai67UETWh31Ro/L5P9j",
      "include_colab_link": true
    },
    "kernelspec": {
      "name": "python3",
      "display_name": "Python 3"
    },
    "language_info": {
      "name": "python"
    }
  },
  "cells": [
    {
      "cell_type": "markdown",
      "metadata": {
        "id": "view-in-github",
        "colab_type": "text"
      },
      "source": [
        "<a href=\"https://colab.research.google.com/github/srilamaiti/data_structure_codes/blob/main/insertion_sort.ipynb\" target=\"_parent\"><img src=\"https://colab.research.google.com/assets/colab-badge.svg\" alt=\"Open In Colab\"/></a>"
      ]
    },
    {
      "cell_type": "code",
      "execution_count": 1,
      "metadata": {
        "colab": {
          "base_uri": "https://localhost:8080/"
        },
        "id": "2RJV2taVWVT1",
        "outputId": "9973706f-16aa-48b9-84f5-ea3341f0ac2b"
      },
      "outputs": [
        {
          "output_type": "stream",
          "name": "stdout",
          "text": [
            "Given array is\n",
            "12 11 13 5 6 7 \n",
            "Sorted array is: \n",
            "5 6 7 11 12 13 \n"
          ]
        }
      ],
      "source": [
        "\n",
        "# Python program for implementation of MergeSort\n",
        "def mergeSort(arr):\n",
        "    if len(arr) > 1:\n",
        " \n",
        "         # Finding the mid of the array\n",
        "        mid = len(arr)//2\n",
        " \n",
        "        # Dividing the array elements\n",
        "        L = arr[:mid]\n",
        " \n",
        "        # into 2 halves\n",
        "        R = arr[mid:]\n",
        " \n",
        "        # Sorting the first half\n",
        "        mergeSort(L)\n",
        " \n",
        "        # Sorting the second half\n",
        "        mergeSort(R)\n",
        " \n",
        "        i = j = k = 0\n",
        " \n",
        "        # Copy data to temp arrays L[] and R[]\n",
        "        while i < len(L) and j < len(R):\n",
        "            if L[i] <= R[j]:\n",
        "                arr[k] = L[i]\n",
        "                i += 1\n",
        "            else:\n",
        "                arr[k] = R[j]\n",
        "                j += 1\n",
        "            k += 1\n",
        " \n",
        "        # Checking if any element was left\n",
        "        while i < len(L):\n",
        "            arr[k] = L[i]\n",
        "            i += 1\n",
        "            k += 1\n",
        " \n",
        "        while j < len(R):\n",
        "            arr[k] = R[j]\n",
        "            j += 1\n",
        "            k += 1\n",
        " \n",
        "# Code to print the list\n",
        " \n",
        " \n",
        "def printList(arr):\n",
        "    for i in range(len(arr)):\n",
        "        print(arr[i], end=\" \")\n",
        "    print()\n",
        " \n",
        " \n",
        "# Driver Code\n",
        "if __name__ == '__main__':\n",
        "    arr = [12, 11, 13, 5, 6, 7]\n",
        "    print(\"Given array is\", end=\"\\n\")\n",
        "    printList(arr)\n",
        "    mergeSort(arr)\n",
        "    print(\"Sorted array is: \", end=\"\\n\")\n",
        "    printList(arr)"
      ]
    }
  ]
}