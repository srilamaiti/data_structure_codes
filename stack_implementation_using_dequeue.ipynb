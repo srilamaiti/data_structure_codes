{
  "nbformat": 4,
  "nbformat_minor": 0,
  "metadata": {
    "colab": {
      "name": "stack_implementation_using_dequeue.ipynb",
      "provenance": [],
      "collapsed_sections": []
    },
    "kernelspec": {
      "name": "python3",
      "display_name": "Python 3"
    },
    "language_info": {
      "name": "python"
    }
  },
  "cells": [
    {
      "cell_type": "code",
      "source": [
        "from collections import deque"
      ],
      "metadata": {
        "id": "swpsoIzm5BOu"
      },
      "execution_count": 17,
      "outputs": []
    },
    {
      "cell_type": "markdown",
      "source": [
        "**The functions associated with stack are:**\n"
      ],
      "metadata": {
        "id": "PjvZsHTO6Yvw"
      }
    },
    {
      "cell_type": "markdown",
      "source": [
        "\n",
        "**empty()** \n",
        "– Returns whether the stack is empty \n",
        "– Time Complexity: O(1)\n"
      ],
      "metadata": {
        "id": "rhVFrLHR6cN_"
      }
    },
    {
      "cell_type": "markdown",
      "source": [
        "**size()** \n",
        "– Returns the size of the stack \n",
        "– Time Complexity: O(1)\n"
      ],
      "metadata": {
        "id": "-97XH5E96ffW"
      }
    },
    {
      "cell_type": "markdown",
      "source": [
        "**top()** \n",
        "– Returns a reference to the topmost element of the stack \n",
        "– Time Complexity: O(1)\n"
      ],
      "metadata": {
        "id": "59dVPkZi6hvv"
      }
    },
    {
      "cell_type": "markdown",
      "source": [
        "**push(a)** \n",
        "– Inserts the element ‘a’ at the top of the stack \n",
        "– Time Complexity: O(1)\n"
      ],
      "metadata": {
        "id": "EKMlv0yP6h3b"
      }
    },
    {
      "cell_type": "markdown",
      "source": [
        "**pop()** \n",
        "– Deletes the topmost element of the stack \n",
        "– Time Complexity: O(1)"
      ],
      "metadata": {
        "id": "MTpdNN066h8k"
      }
    },
    {
      "cell_type": "markdown",
      "source": [
        "**Implementation using collections.deque:**\n",
        "Python stack can be implemented using the deque class from the collections module. Deque is preferred over the list in the cases where we need quicker append and pop operations from both the ends of the container, as deque provides an O(1) time complexity for append and pop operations as compared to list which provides O(n) time complexity. \n",
        "The same methods on deque as seen in the list are used, append() and pop()."
      ],
      "metadata": {
        "id": "wlrKLPlY9U6S"
      }
    },
    {
      "cell_type": "code",
      "source": [
        "class Stack:\n",
        "    \n",
        "    def __init__(self):\n",
        "        self.stack = deque()\n",
        "    \n",
        "    def push(self, item):\n",
        "        self.stack.append(item)\n",
        "    \n",
        "    def is_empty(self):\n",
        "        return len(self.stack) == 0\n",
        "    \n",
        "    def stack_size(self):\n",
        "        return len(self.stack)\n",
        "    \n",
        "    def peek(self):\n",
        "        if self.stack_size() > 0:\n",
        "            return self.stack[self.stack_size() - 1]\n",
        "        else:\n",
        "            print(\"Stack is empty\")\n",
        "            return None\n",
        "    \n",
        "    def pop(self):\n",
        "        if self.is_empty() == False:\n",
        "            self.stack.pop()\n",
        "        else:\n",
        "            print(\"Stack is empty\")"
      ],
      "metadata": {
        "id": "bvD641o-zYqK"
      },
      "execution_count": 26,
      "outputs": []
    },
    {
      "cell_type": "code",
      "source": [
        "my_stack = Stack()\n",
        "print(f\"Stack size : {my_stack.stack_size()}\")\n",
        "my_stack.push(1)\n",
        "my_stack.push(2)\n",
        "my_stack.push(3)\n",
        "print(f\"Stack size : {my_stack.stack_size()}\")\n",
        "print(f\"Last item in stack : {my_stack.peek()}\")\n",
        "my_stack.pop()\n",
        "my_stack.pop()\n",
        "my_stack.pop()\n",
        "my_stack.pop()\n",
        "print(f\"Stack size : {my_stack.stack_size()}\")\n",
        "print(f\"Last item in stack : {my_stack.peek()}\")\n"
      ],
      "metadata": {
        "colab": {
          "base_uri": "https://localhost:8080/"
        },
        "id": "vgfC6RijzYtA",
        "outputId": "844b45f0-2cab-4b18-ad93-b914d00aefab"
      },
      "execution_count": 27,
      "outputs": [
        {
          "output_type": "stream",
          "name": "stdout",
          "text": [
            "Stack size : 0\n",
            "Stack size : 3\n",
            "Last item in stack : 3\n",
            "Stack is empty\n",
            "Stack size : 0\n",
            "Stack is empty\n",
            "Last item in stack : None\n"
          ]
        }
      ]
    },
    {
      "cell_type": "code",
      "source": [
        ""
      ],
      "metadata": {
        "id": "p-kXdEwozY1M"
      },
      "execution_count": null,
      "outputs": []
    },
    {
      "cell_type": "code",
      "source": [
        ""
      ],
      "metadata": {
        "id": "kKRGH2hgzY35"
      },
      "execution_count": null,
      "outputs": []
    },
    {
      "cell_type": "code",
      "source": [
        ""
      ],
      "metadata": {
        "id": "J2-FioGyzY6l"
      },
      "execution_count": null,
      "outputs": []
    },
    {
      "cell_type": "code",
      "source": [
        ""
      ],
      "metadata": {
        "id": "Kwwf31n-zY9L"
      },
      "execution_count": null,
      "outputs": []
    },
    {
      "cell_type": "code",
      "source": [
        ""
      ],
      "metadata": {
        "id": "ouhwdwmZzZAO"
      },
      "execution_count": null,
      "outputs": []
    },
    {
      "cell_type": "code",
      "source": [
        ""
      ],
      "metadata": {
        "id": "ZO7RaWB4zZCu"
      },
      "execution_count": null,
      "outputs": []
    }
  ]
}