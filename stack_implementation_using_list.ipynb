{
  "nbformat": 4,
  "nbformat_minor": 0,
  "metadata": {
    "colab": {
      "name": "stack_implementation_using_list.ipynb",
      "provenance": [],
      "collapsed_sections": []
    },
    "kernelspec": {
      "name": "python3",
      "display_name": "Python 3"
    },
    "language_info": {
      "name": "python"
    }
  },
  "cells": [
    {
      "cell_type": "markdown",
      "source": [
        "**The functions associated with stack are:**"
      ],
      "metadata": {
        "id": "Q4GuvoQA6u4s"
      }
    },
    {
      "cell_type": "markdown",
      "source": [
        "**empty() – Returns whether the stack is empty – Time Complexity: O(1)**"
      ],
      "metadata": {
        "id": "pUMRn5GF6u01"
      }
    },
    {
      "cell_type": "markdown",
      "source": [
        "**size() – Returns the size of the stack – Time Complexity: O(1)**"
      ],
      "metadata": {
        "id": "A6DBgKDQ6uxm"
      }
    },
    {
      "cell_type": "markdown",
      "source": [
        "**top() – Returns a reference to the topmost element of the stack – Time Complexity: O(1)**"
      ],
      "metadata": {
        "id": "n0SJU1yQ6uuS"
      }
    },
    {
      "cell_type": "markdown",
      "source": [
        "**push(a) – Inserts the element ‘a’ at the top of the stack – Time Complexity: O(1)**"
      ],
      "metadata": {
        "id": "dgQRA1OS6uqa"
      }
    },
    {
      "cell_type": "markdown",
      "source": [
        "**pop() – Deletes the topmost element of the stack – Time Complexity: O(1)**"
      ],
      "metadata": {
        "id": "slbyvLNf6umP"
      }
    },
    {
      "cell_type": "markdown",
      "source": [
        "**Implementation using list:**\n",
        "Python’s built-in data structure list can be used as a stack. Instead of push(), append() is used to add elements to the top of the stack while pop() removes the element in LIFO order. \n",
        "Unfortunately, the list has a few shortcomings. The biggest issue is that it can run into speed issues as it grows. The items in the list are stored next to each other in memory, if the stack grows bigger than the block of memory that currently holds it, then Python needs to do some memory allocations. This can lead to some append() calls taking much longer than other ones."
      ],
      "metadata": {
        "id": "n1vPzW019n1e"
      }
    },
    {
      "cell_type": "code",
      "source": [
        "class Stack:\n",
        "    \n",
        "    def __init__(self):\n",
        "        self.stack = []\n",
        "    \n",
        "    def push(self, item):\n",
        "        self.stack.append(item)\n",
        "    \n",
        "    def is_empty(self):\n",
        "        return len(self.stack) == 0\n",
        "    \n",
        "    def stack_size(self):\n",
        "        return len(self.stack)\n",
        "    \n",
        "    def peek(self):\n",
        "        if self.stack_size() > 0:\n",
        "            return self.stack[self.stack_size() - 1]\n",
        "        else:\n",
        "            print(\"Stack is empty\")\n",
        "            return None\n",
        "    \n",
        "    def pop(self):\n",
        "        if self.is_empty() == False:\n",
        "            self.stack.pop()\n",
        "        else:\n",
        "            print(\"Stack is empty\")"
      ],
      "metadata": {
        "id": "bvD641o-zYqK"
      },
      "execution_count": null,
      "outputs": []
    },
    {
      "cell_type": "code",
      "source": [
        "my_stack = Stack()\n",
        "print(f\"Stack size : {my_stack.stack_size()}\")\n",
        "my_stack.push(1)\n",
        "my_stack.push(2)\n",
        "my_stack.push(3)\n",
        "print(f\"Stack size : {my_stack.stack_size()}\")\n",
        "print(f\"Last item in stack : {my_stack.peek()}\")\n",
        "my_stack.pop()\n",
        "my_stack.pop()\n",
        "my_stack.pop()\n",
        "my_stack.pop()\n",
        "print(f\"Stack size : {my_stack.stack_size()}\")\n",
        "print(f\"Last item in stack : {my_stack.peek()}\")\n"
      ],
      "metadata": {
        "colab": {
          "base_uri": "https://localhost:8080/"
        },
        "id": "vgfC6RijzYtA",
        "outputId": "65a5cceb-5edd-4602-d907-09f6a32f167a"
      },
      "execution_count": null,
      "outputs": [
        {
          "output_type": "stream",
          "name": "stdout",
          "text": [
            "Stack size : 0\n",
            "Stack size : 3\n",
            "Last item in stack : 3\n",
            "Stack is empty\n",
            "Stack size : 0\n",
            "Stack is empty\n",
            "Last item in stack : None\n"
          ]
        }
      ]
    },
    {
      "cell_type": "code",
      "source": [
        ""
      ],
      "metadata": {
        "id": "hifNU3WwzYyk"
      },
      "execution_count": null,
      "outputs": []
    },
    {
      "cell_type": "code",
      "source": [
        ""
      ],
      "metadata": {
        "id": "p-kXdEwozY1M"
      },
      "execution_count": null,
      "outputs": []
    },
    {
      "cell_type": "code",
      "source": [
        ""
      ],
      "metadata": {
        "id": "kKRGH2hgzY35"
      },
      "execution_count": null,
      "outputs": []
    },
    {
      "cell_type": "code",
      "source": [
        ""
      ],
      "metadata": {
        "id": "J2-FioGyzY6l"
      },
      "execution_count": null,
      "outputs": []
    },
    {
      "cell_type": "code",
      "source": [
        ""
      ],
      "metadata": {
        "id": "Kwwf31n-zY9L"
      },
      "execution_count": null,
      "outputs": []
    },
    {
      "cell_type": "code",
      "source": [
        ""
      ],
      "metadata": {
        "id": "ouhwdwmZzZAO"
      },
      "execution_count": null,
      "outputs": []
    },
    {
      "cell_type": "code",
      "source": [
        ""
      ],
      "metadata": {
        "id": "ZO7RaWB4zZCu"
      },
      "execution_count": null,
      "outputs": []
    }
  ]
}