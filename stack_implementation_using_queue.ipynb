{
  "nbformat": 4,
  "nbformat_minor": 0,
  "metadata": {
    "colab": {
      "name": "stack_implementation_using_queue.ipynb",
      "provenance": [],
      "collapsed_sections": []
    },
    "kernelspec": {
      "name": "python3",
      "display_name": "Python 3"
    },
    "language_info": {
      "name": "python"
    }
  },
  "cells": [
    {
      "cell_type": "code",
      "source": [
        "from queue import LifoQueue"
      ],
      "metadata": {
        "id": "swpsoIzm5BOu"
      },
      "execution_count": 28,
      "outputs": []
    },
    {
      "cell_type": "markdown",
      "source": [
        "**The functions associated with stack are:**\n"
      ],
      "metadata": {
        "id": "PjvZsHTO6Yvw"
      }
    },
    {
      "cell_type": "markdown",
      "source": [
        "\n",
        "**empty()** \n",
        "– Returns whether the stack is empty \n",
        "– Time Complexity: O(1)\n"
      ],
      "metadata": {
        "id": "rhVFrLHR6cN_"
      }
    },
    {
      "cell_type": "markdown",
      "source": [
        "**size()** \n",
        "– Returns the size of the stack \n",
        "– Time Complexity: O(1)\n"
      ],
      "metadata": {
        "id": "-97XH5E96ffW"
      }
    },
    {
      "cell_type": "markdown",
      "source": [
        "**top()** \n",
        "– Returns a reference to the topmost element of the stack \n",
        "– Time Complexity: O(1)\n"
      ],
      "metadata": {
        "id": "59dVPkZi6hvv"
      }
    },
    {
      "cell_type": "markdown",
      "source": [
        "**push(a)** \n",
        "– Inserts the element ‘a’ at the top of the stack \n",
        "– Time Complexity: O(1)\n"
      ],
      "metadata": {
        "id": "EKMlv0yP6h3b"
      }
    },
    {
      "cell_type": "markdown",
      "source": [
        "**pop()** \n",
        "– Deletes the topmost element of the stack \n",
        "– Time Complexity: O(1)"
      ],
      "metadata": {
        "id": "MTpdNN066h8k"
      }
    },
    {
      "cell_type": "markdown",
      "source": [
        "**Implementation using queue module**\n",
        "Queue module also has a LIFO Queue, which is basically a Stack. Data is inserted into Queue using the put() function and get() takes data out from the Queue. \n",
        "\n",
        "There are various functions available in this module: \n",
        "\n"
      ],
      "metadata": {
        "id": "wlrKLPlY9U6S"
      }
    },
    {
      "cell_type": "markdown",
      "source": [
        "**maxsize** – Number of items allowed in the queue.\n"
      ],
      "metadata": {
        "id": "5uoELVu3K--D"
      }
    },
    {
      "cell_type": "markdown",
      "source": [
        "**empty()** – Return True if the queue is empty, False otherwise.\n"
      ],
      "metadata": {
        "id": "3-lfHXO9LBB0"
      }
    },
    {
      "cell_type": "markdown",
      "source": [
        "**full()** – Return True if there are maxsize items in the queue. If the queue was initialized with maxsize=0 (the default), then full() never returns True.\n"
      ],
      "metadata": {
        "id": "w7VcNp9ZLBP-"
      }
    },
    {
      "cell_type": "markdown",
      "source": [
        "**get()** – Remove and return an item from the queue. If the queue is empty, wait until an item is available.\n"
      ],
      "metadata": {
        "id": "cAcYtQJ5LBS_"
      }
    },
    {
      "cell_type": "markdown",
      "source": [
        "**get_nowait()** – Return an item if one is immediately available, else raise QueueEmpty.\n"
      ],
      "metadata": {
        "id": "tqCvLNPnLBVx"
      }
    },
    {
      "cell_type": "markdown",
      "source": [
        "### **put(item)**– Put an item into the queue. If the queue is full, wait until a free slot is available before adding the item.\n"
      ],
      "metadata": {
        "id": "VBnoMGlpLBYq"
      }
    },
    {
      "cell_type": "markdown",
      "source": [
        "**put_nowait(item)** – Put an item into the queue without blocking.\n"
      ],
      "metadata": {
        "id": "dMu4xIClLBbk"
      }
    },
    {
      "cell_type": "markdown",
      "source": [
        "**qsize()** – Return the number of items in the queue. If no free slot is immediately available, raise QueueFull."
      ],
      "metadata": {
        "id": "nJt1Qq65LBeh"
      }
    },
    {
      "cell_type": "code",
      "source": [
        "class Stack:\n",
        "    \n",
        "    def __init__(self):\n",
        "        self.stack = LifoQueue()\n",
        "    \n",
        "    def push(self, item):\n",
        "        self.stack.put(item)\n",
        "    \n",
        "    def is_empty(self):\n",
        "        return self.stack.empty()\n",
        "    \n",
        "    def stack_size(self):\n",
        "        return self.stack.qsize()\n",
        "    \n",
        "    def peek(self):\n",
        "        if self.stack_size() > 0:\n",
        "            return list(self.stack.queue)[-1]\n",
        "        else:\n",
        "            print(\"Stack is empty\")\n",
        "            return None\n",
        "    \n",
        "    def pop(self):\n",
        "        if self.is_empty() == False:\n",
        "            self.stack.get()\n",
        "        else:\n",
        "            print(\"Stack is empty\")"
      ],
      "metadata": {
        "id": "bvD641o-zYqK"
      },
      "execution_count": 44,
      "outputs": []
    },
    {
      "cell_type": "code",
      "source": [
        "my_stack = Stack()\n",
        "print(f\"Stack size : {my_stack.stack_size()}\")\n",
        "my_stack.push(1)\n",
        "my_stack.push(2)\n",
        "my_stack.push(3)\n",
        "print(f\"Stack size : {my_stack.stack_size()}\")\n",
        "print(f\"Last item in stack : {my_stack.peek()}\")\n",
        "my_stack.pop()\n",
        "my_stack.pop()\n",
        "my_stack.pop()\n",
        "my_stack.pop()\n",
        "print(f\"Stack size : {my_stack.stack_size()}\")\n",
        "print(f\"Last item in stack : {my_stack.peek()}\")\n"
      ],
      "metadata": {
        "colab": {
          "base_uri": "https://localhost:8080/"
        },
        "id": "vgfC6RijzYtA",
        "outputId": "0ed682ce-e2b1-4f99-b5c3-b05d554f24d8"
      },
      "execution_count": 45,
      "outputs": [
        {
          "output_type": "stream",
          "name": "stdout",
          "text": [
            "Stack size : 0\n",
            "Stack size : 3\n",
            "Last item in stack : 3\n",
            "Stack is empty\n",
            "Stack size : 0\n",
            "Stack is empty\n",
            "Last item in stack : None\n"
          ]
        }
      ]
    },
    {
      "cell_type": "code",
      "source": [
        ""
      ],
      "metadata": {
        "id": "J2-FioGyzY6l"
      },
      "execution_count": null,
      "outputs": []
    },
    {
      "cell_type": "code",
      "source": [
        ""
      ],
      "metadata": {
        "id": "Kwwf31n-zY9L"
      },
      "execution_count": null,
      "outputs": []
    },
    {
      "cell_type": "code",
      "source": [
        ""
      ],
      "metadata": {
        "id": "ouhwdwmZzZAO"
      },
      "execution_count": null,
      "outputs": []
    },
    {
      "cell_type": "code",
      "source": [
        ""
      ],
      "metadata": {
        "id": "ZO7RaWB4zZCu"
      },
      "execution_count": null,
      "outputs": []
    }
  ]
}